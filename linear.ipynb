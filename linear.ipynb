{
 "nbformat": 4,
 "nbformat_minor": 2,
 "metadata": {
  "language_info": {
   "name": "python",
   "codemirror_mode": {
    "name": "ipython",
    "version": 3
   },
   "version": "3.7.4-final"
  },
  "orig_nbformat": 2,
  "file_extension": ".py",
  "mimetype": "text/x-python",
  "name": "python",
  "npconvert_exporter": "python",
  "pygments_lexer": "ipython3",
  "version": 3,
  "kernelspec": {
   "name": "python37464bitasusvirtualenv61b8c41673f142adbf5f1f5f9294baf8",
   "display_name": "Python 3.7.4 64-bit ('ASUS': virtualenv)"
  }
 },
 "cells": [
  {
   "cell_type": "code",
   "execution_count": 1,
   "metadata": {},
   "outputs": [],
   "source": [
    "import pandas as pd\n",
    "import numpy as np\n",
    "import matplotlib.pyplot as plt\n",
    "import matplotlib.cm as cm\n",
    "# multivariate linear regression with regularization\n",
    "from sklearn.linear_model import LinearRegression, Ridge, Lasso\n",
    "# support vector machine regression\n",
    "from sklearn.svm import SVR\n",
    "from sklearn.metrics import r2_score\n",
    "# neural network\n",
    "import tensorflow\n",
    "from tensorflow.keras.models import Sequential\n",
    "from tensorflow.keras.layers import LSTM, GRU, Dense, Dropout, Bidirectional, BatchNormalization\n",
    "# normalization\n",
    "from sklearn.preprocessing import MinMaxScaler, StandardScaler\n",
    "from sklearn.pipeline import Pipeline\n",
    "# score\n",
    "from sklearn.metrics import mean_absolute_error\n",
    "from sklearn.model_selection import train_test_split, StratifiedShuffleSplit, GridSearchCV, RandomizedSearchCV\n",
    "# import keras\n",
    "import tensorflow.keras\n",
    "from tensorflow.keras import optimizers, regularizers\n",
    "from tensorflow.keras.layers import Activation\n",
    "from tensorflow.keras import backend as K\n",
    "# import regularizer\n",
    "from tensorflow.keras.regularizers import l1, l2\n",
    "# import matplotlib\n",
    "import matplotlib.pyplot as plt\n",
    "# os\n",
    "import os\n",
    "import pickle\n",
    "from calendar import monthrange"
   ]
  },
  {
   "cell_type": "code",
   "execution_count": 2,
   "metadata": {},
   "outputs": [
    {
     "name": "stdout",
     "output_type": "stream",
     "text": "JAN   FEB   MAR   APR   MAY   JUN   JUL   AUG   SEP   OCT   NOV   DEC\n0   19.9  21.0  24.2  27.0  26.6  27.4  26.8  27.0  26.4  24.9  21.4  20.5\n1   20.2  21.7  24.8  27.2  26.6  27.2  26.3  26.3  26.8  25.9  22.1  19.1\n2   19.5  22.8  24.7  27.1  27.5  27.0  27.2  27.0  27.1  26.4  23.0  20.5\n3   21.9  22.3  24.5  28.5  29.0  28.6  27.4  26.7  26.7  25.9  22.6  21.8\n4   20.8  22.0  23.6  25.7  26.7  27.4  27.2  26.3  26.7  25.6  22.4  20.3\n5   20.6  22.8  24.6  27.5  27.4  27.6  26.5  26.9  26.5  26.1  25.2  22.1\n6   21.1  24.1  24.2  28.5  28.2  27.6  26.8  26.7  26.3  24.5  24.0  18.5\n7   19.3  22.0  24.6  27.3  27.9  28.0  26.9  26.5  26.8  25.8  24.1  20.9\n8   19.6  21.7  25.1  26.4  28.5  28.7  27.7  27.2  27.2  25.6  24.6  21.7\n9   19.0  21.6  26.1  29.5  28.9  27.5  26.8  27.1  27.1  26.5  24.6  21.7\n10  21.5  22.8  25.9  26.7  27.6  27.8  26.8  27.1  27.0  26.1  24.2  20.7\n11  21.0  22.6  24.7  25.9  27.0  27.1  27.3  26.8  27.3  26.1  23.1  22.5\n"
    }
   ],
   "source": [
    "area_df     = pd.read_excel('area_2003-2019.xls', sheet_name = 'Sheet1')\n",
    "lychee_yield_df = pd.read_excel('lycheeproduct.xlsx')\n",
    "humidChiangrai=pd.read_excel('humidchiangrai.xlsx',sheet_name = 'Sheet2')\n",
    "tempchiangrai=pd.read_excel('temperaturechiangrai.xlsx',sheet_name = 'Sheet2')\n",
    "rainchiangrai=pd.read_excel('rainchiangrai.xlsx')\n",
    "tempchiangrai=tempchiangrai.iloc[:,0:12]\n",
    "humidChiangrai=humidChiangrai.iloc[:,0:12]\n",
    "print(tempchiangrai)"
   ]
  },
  {
   "cell_type": "code",
   "execution_count": 3,
   "metadata": {},
   "outputs": [
    {
     "name": "stdout",
     "output_type": "stream",
     "text": "(12, 12)\n"
    }
   ],
   "source": [
    "rainchiangrai=pd.read_excel('cm_met_ChiangRai.xlsx',sheet_name='Rainfall')\n",
    "pressurechiangrai=pd.read_excel('cm_met_ChiangRai.xlsx',sheet_name='Pressure')\n",
    "pheno=pd.read_excel('cm_met_Chiangrai.xlsx',sheet_name='pheno')\n",
    "\n",
    "rainchiangrai=rainchiangrai.iloc[0,1:]\n",
    "rainchiangrai=rainchiangrai.to_numpy()\n",
    "rainchiangrai=rainchiangrai.reshape(12,13)\n",
    "rainchiangrai=np.delete(rainchiangrai,12,1)\n",
    "###############################################3\n",
    "pressurechiangrai=pressurechiangrai.iloc[0,1:]\n",
    "pressurechiangrai=pressurechiangrai.to_numpy()\n",
    "pressurechiangrai=pressurechiangrai.reshape(12,13)\n",
    "pressurechiangrai=np.delete(pressurechiangrai,12,1)\n",
    "#########################################################\n",
    "pheno=pheno.iloc[3,2:]\n",
    "pheno=pheno.to_numpy()\n",
    "pheno=pheno.reshape(12,12)\n",
    "########################################################\n",
    "\n",
    "inputchiangrai=pd.read_excel('input.xlsx')\n",
    "Y_chiangrai=inputchiangrai.iloc[3:,3]\n",
    "inputchiangrai=inputchiangrai.iloc[3:,:4]\n",
    "inputchiangrai=inputchiangrai.to_numpy()\n",
    "#######################################################################\n",
    "Y_chiangrai=Y_chiangrai.to_numpy()\n",
    "tempchiangrai=tempchiangrai.to_numpy()\n",
    "\n",
    "humidChiangrai=humidChiangrai.to_numpy()\n",
    "\n",
    "print(pressurechiangrai.shape)"
   ]
  },
  {
   "cell_type": "code",
   "execution_count": 4,
   "metadata": {},
   "outputs": [],
   "source": [
    "####################DATAINPUT##########################################33\n",
    "X_chiangrai=np.concatenate((tempchiangrai[:,0:2],inputchiangrai[:,0:3]),axis=1)\n",
    "X_chiangrai=np.concatenate((X_chiangrai,pheno[:,0:3]),axis=1)\n",
    "#X_chiangrai=np.concatenate((X_chiangrai,rainchiangrai[:,0:2]),axis=1)"
   ]
  },
  {
   "cell_type": "code",
   "execution_count": 5,
   "metadata": {},
   "outputs": [],
   "source": [
    "def rmse(y_true, y_pred):\n",
    "\n",
    "    ind_ignorezero = (y_true != 0).reshape(-1,)\n",
    "    error = (y_true - y_pred)\n",
    "    se = error**2\n",
    "    mse = np.mean(se)\n",
    "    rmse = mse**0.5\n",
    "    return rmse\n",
    "def mape(y_true, y_pred):\n",
    "    error = y_true - y_pred\n",
    "    pe     = (y_true - y_pred)/y_true*100\n",
    "    ape = np.abs(pe)\n",
    "    mape = np.mean(ape)\n",
    "\n",
    "    return mape  \n",
    "def mae(y_true, y_pred):\n",
    "\n",
    "    error = y_true - y_pred\n",
    "    ae = np.abs(error)\n",
    "    mae = np.mean(ae)\n",
    "\n",
    "    return mae"
   ]
  },
  {
   "cell_type": "code",
   "execution_count": 6,
   "metadata": {},
   "outputs": [],
   "source": [
    "def mean_absolute_percentage_error(y_true, y_pred): \n",
    "    y_true, y_pred = check_arrays(y_true, y_pred)\n",
    "\n",
    "    ## Note: does not handle mix 1d representation\n",
    "    #if _is_1d(y_true): \n",
    "    #    y_true, y_pred = _check_1d_array(y_true, y_pred)\n",
    "\n",
    "    return np.mean(np.abs((y_true - y_pred) / y_true)) * 100"
   ]
  },
  {
   "cell_type": "code",
   "execution_count": 7,
   "metadata": {},
   "outputs": [],
   "source": [
    "n_size=X_chiangrai.shape[0]\n",
    "\n",
    "X_train, X_test, Y_train, Y_test =  train_test_split(X_chiangrai, Y_chiangrai, test_size=0.3)\n",
    "X_train_ord = X_chiangrai[:int(n_size*(1-0.3)), :]\n",
    "X_test_ord  = X_chiangrai[int(n_size*(1-0.3)):, :]\n",
    "Y_train_ord = Y_chiangrai[:int(n_size*(1-0.3))]\n",
    "Y_test_ord  = Y_chiangrai[int(n_size*(1-0.3)):]\n",
    "#####################################################3\n",
    "\n"
   ]
  },
  {
   "cell_type": "code",
   "execution_count": 8,
   "metadata": {},
   "outputs": [
    {
     "name": "stdout",
     "output_type": "stream",
     "text": "train MAE 948.15\ttest MAE 263.07\ntrain RMSE 2088.35\ttest RMSE 419.75\ntrain MAPE 12.07\ttest MAPE 4.69\n=========================\n"
    }
   ],
   "source": [
    "train_mae = np.array([])\n",
    "test_mae = np.array([])\n",
    "\n",
    "train_rmse = np.array([])\n",
    "test_rmse = np.array([])\n",
    "train_mape = np.array([])\n",
    "test_mape = np.array([])\n",
    "\n",
    "lin_reg = LinearRegression()\n",
    "lin_reg.fit(X_train, np.log1p(Y_train))\n",
    "Y_all_test = lin_reg.predict(X_chiangrai)\n",
    "Y_all_test[Y_all_test<0] = 0\n",
    "\n",
    "Y_all_test = np.expm1(Y_all_test)\n",
    "\n",
    "train_mae = mae(Y_chiangrai[:int(n_size*(1-0.3))], Y_all_test[:int(n_size*(1-0.3))])\n",
    "test_mae = mae(Y_chiangrai[int(n_size*(1-0.3)):], Y_all_test[int(n_size*(1-0.3)):])\n",
    "\n",
    "train_rmse = rmse(Y_chiangrai[:int(n_size*(1-0.3))], Y_all_test[:int(n_size*(1-0.3))])\n",
    "test_rmse = rmse(Y_chiangrai[int(n_size*(1-0.3)):], Y_all_test[int(n_size*(1-0.3)):])\n",
    "\n",
    "train_mape = mape(Y_chiangrai[:int(n_size*(1-0.3))], Y_all_test[:int(n_size*(1-0.3))])\n",
    "test_mape = mape(Y_chiangrai[int(n_size*(1-0.3)):], Y_all_test[int(n_size*(1-0.3)):])\n",
    "\n",
    "print('train MAE {:.2f}\\ttest MAE {:.2f}'.format(train_mae, test_mae))\n",
    "print('train RMSE {:.2f}\\ttest RMSE {:.2f}'.format(train_rmse, test_rmse))\n",
    "print('train MAPE {:.2f}\\ttest MAPE {:.2f}'.format(train_mape, test_mape))\n",
    "print('=========================')\n",
    "\n",
    "\n",
    "\n"
   ]
  },
  {
   "cell_type": "code",
   "execution_count": 9,
   "metadata": {},
   "outputs": [],
   "source": [
    "#################################Chiangmai###########################\n",
    "inputchiagmai=pd.read_excel('inputchiangmai.xlsx')\n",
    "tempchiangmai=pd.read_excel('cm_met_Chiangmai.xlsx',sheet_name='Temperature')\n",
    "phenochiangmai=pd.read_excel('cm_met_Chiangmai.xlsx',sheet_name='Phenomena')\n",
    "humidchiangmai=pd.read_excel('cm_met_Chiangmai.xlsx',sheet_name='Humidity')\n",
    "Y_chiangmai=inputchiagmai.iloc[1:,3]"
   ]
  },
  {
   "cell_type": "code",
   "execution_count": 10,
   "metadata": {},
   "outputs": [],
   "source": [
    "tempchiangmai=tempchiangmai.iloc[4,1:]\n",
    "tempchiangmai=tempchiangmai.to_numpy()\n",
    "tempchiangmai=tempchiangmai.reshape(13,13)\n",
    "tempchiangmai=np.delete(tempchiangmai,9,0)\n",
    "inputchiagmai=inputchiagmai.iloc[1:,:3]\n",
    "#######################################################\n",
    "phenochiangmai=phenochiangmai.iloc[3,1:]\n",
    "phenochiangmai=phenochiangmai.to_numpy()\n",
    "phenochiangmai=phenochiangmai.reshape(13,13)\n",
    "phenochiangmai=np.delete(phenochiangmai,9,0)"
   ]
  },
  {
   "cell_type": "code",
   "execution_count": 12,
   "metadata": {},
   "outputs": [
    {
     "name": "stdout",
     "output_type": "stream",
     "text": "[[  231    60 57865]\n [  131    59 60213]\n [  162    61 54641]\n [  118    96 54641]\n [  159    16 57652]\n [  135    62 59709]\n [   90    88 57927]\n [  184    70 58294]\n [  146    62 58046]\n [  159   116 53477]\n [   88    70 52982]\n [  109    41 47254]]\n"
    }
   ],
   "source": [
    "inputchiagmai=inputchiagmai.to_numpy()\n",
    "print(inputchiagmai)"
   ]
  },
  {
   "cell_type": "code",
   "execution_count": 11,
   "metadata": {},
   "outputs": [],
   "source": [
    "Y_chiangmai=Y_chiangmai.to_numpy()\n"
   ]
  },
  {
   "cell_type": "code",
   "execution_count": 13,
   "metadata": {},
   "outputs": [],
   "source": [
    "X_chiangmai=np.concatenate((tempchiangmai[:,0:2],inputchiagmai[:,0:3]),axis=1)\n",
    "\n",
    "X_chiangmai=np.concatenate((X_chiangmai,phenochiangmai[:,0:3]),axis=1)\n"
   ]
  },
  {
   "cell_type": "code",
   "execution_count": 14,
   "metadata": {},
   "outputs": [],
   "source": [
    "n_size=X_chiangrai.shape[0]\n",
    "\n",
    "X_train, X_test, Y_train, Y_test =  train_test_split(X_chiangmai, Y_chiangmai, test_size=0.3)\n",
    "X_train_ord = X_chiangmai[:int(n_size*(1-0.3)), :]\n",
    "X_test_ord  = X_chiangmai[int(n_size*(1-0.3)):, :]\n",
    "Y_train_ord = Y_chiangmai[:int(n_size*(1-0.3))]\n",
    "Y_test_ord  = Y_chiangmai[int(n_size*(1-0.3)):]"
   ]
  },
  {
   "cell_type": "code",
   "execution_count": 15,
   "metadata": {},
   "outputs": [
    {
     "name": "stdout",
     "output_type": "stream",
     "text": "train MAE 9489.01\ttest MAE 5069.93\ntrain RMSE 17378.91\ttest RMSE 10139.86\ntrain MAPE 56.68\ttest MAPE 20.00\n=========================\n"
    }
   ],
   "source": [
    "lin_reg = LinearRegression()\n",
    "lin_reg.fit(X_train, np.log1p(Y_train))\n",
    "Y_all_test = lin_reg.predict(X_chiangmai)\n",
    "Y_all_test[Y_all_test<0] = 0\n",
    "\n",
    "Y_all_test = np.expm1(Y_all_test)\n",
    "\n",
    "train_mae = mae(Y_chiangmai[:int(n_size*(1-0.3))], Y_all_test[:int(n_size*(1-0.3))])\n",
    "test_mae = mae(Y_chiangmai[int(n_size*(1-0.3)):], Y_all_test[int(n_size*(1-0.3)):])\n",
    "\n",
    "train_rmse = rmse(Y_chiangmai[:int(n_size*(1-0.3))], Y_all_test[:int(n_size*(1-0.3))])\n",
    "test_rmse = rmse(Y_chiangmai[int(n_size*(1-0.3)):], Y_all_test[int(n_size*(1-0.3)):])\n",
    "\n",
    "train_mape = mape(Y_chiangmai[:int(n_size*(1-0.3))], Y_all_test[:int(n_size*(1-0.3))])\n",
    "test_mape = mape(Y_chiangmai[int(n_size*(1-0.3)):], Y_all_test[int(n_size*(1-0.3)):])\n",
    "\n",
    "print('train MAE {:.2f}\\ttest MAE {:.2f}'.format(train_mae, test_mae))\n",
    "print('train RMSE {:.2f}\\ttest RMSE {:.2f}'.format(train_rmse, test_rmse))\n",
    "print('train MAPE {:.2f}\\ttest MAPE {:.2f}'.format(train_mape, test_mape))\n",
    "print('=========================')"
   ]
  },
  {
   "cell_type": "code",
   "execution_count": 16,
   "metadata": {},
   "outputs": [],
   "source": [
    "#########################################Neaural Network#########################################"
   ]
  },
  {
   "cell_type": "code",
   "execution_count": 17,
   "metadata": {},
   "outputs": [
    {
     "name": "stdout",
     "output_type": "stream",
     "text": "12\n"
    }
   ],
   "source": [
    "print(X_chiangmai.shape[0])"
   ]
  },
  {
   "cell_type": "code",
   "execution_count": 18,
   "metadata": {},
   "outputs": [],
   "source": [
    "scaler=MinMaxScaler()\n",
    "reg = l1(0.01)\n",
    "neural = Sequential()\n",
    "scaler=MinMaxScaler()\n",
    "    # input layer\n",
    "neural.add(Dense(256, activation='relu', input_dim=X_chiangmai.shape[1]))\n",
    "    # hidden layer\n",
    "neural.add(Dense(512, activation='relu',kernel_regularizer=reg)) \n",
    "neural.add(Dropout(0.4))\n",
    "neural.add(Dense(512, activation='relu',kernel_regularizer=reg))   \n",
    "neural.add(Dropout(0.4)) \n",
    "neural.add(Dense(512, activation='relu',kernel_regularizer=reg))   \n",
    "neural.add(Dropout(0.4))     \n",
    "# output layer\n",
    "neural.add(Dense(1, activation='relu'))\n",
    "neural.compile(optimizer='adam', loss='mse',metrics=['mse', 'mae', 'mape'])"
   ]
  },
  {
   "cell_type": "code",
   "execution_count": 19,
   "metadata": {},
   "outputs": [],
   "source": [
    "n_size=X_chiangrai.shape[0]\n",
    "\n",
    "X_train, X_test, Y_train, Y_test =  train_test_split(X_chiangrai, Y_chiangrai, test_size=0.3)\n",
    "X_train_ord = X_chiangrai[:int(n_size*(1-0.3)), :]\n",
    "X_test_ord  = X_chiangrai[int(n_size*(1-0.3)):, :]\n",
    "Y_train_ord = Y_chiangrai[:int(n_size*(1-0.3))]\n",
    "Y_test_ord  = Y_chiangrai[int(n_size*(1-0.3)):]"
   ]
  },
  {
   "cell_type": "code",
   "execution_count": 20,
   "metadata": {},
   "outputs": [
    {
     "data": {
      "text/plain": "MinMaxScaler(copy=True, feature_range=(0, 1))"
     },
     "execution_count": 20,
     "metadata": {},
     "output_type": "execute_result"
    }
   ],
   "source": [
    "scaler.fit(X_train)"
   ]
  },
  {
   "cell_type": "code",
   "execution_count": 104,
   "metadata": {},
   "outputs": [],
   "source": [
    "X_train=K.constant(X_train)\n",
    "Y_train=K.constant(Y_train)"
   ]
  },
  {
   "cell_type": "code",
   "execution_count": 105,
   "metadata": {},
   "outputs": [
    {
     "data": {
      "text/plain": "<tensorflow.python.keras.callbacks.History at 0x21da62f1088>"
     },
     "execution_count": 105,
     "metadata": {},
     "output_type": "execute_result"
    }
   ],
   "source": [
    "\n",
    "neural.fit(X_train,Y_train,epochs=100, verbose=0, batch_size=32)"
   ]
  },
  {
   "cell_type": "code",
   "execution_count": 106,
   "metadata": {},
   "outputs": [],
   "source": [
    "X_chiangrai=K.constant(X_chiangrai)"
   ]
  },
  {
   "cell_type": "code",
   "execution_count": 107,
   "metadata": {},
   "outputs": [],
   "source": [
    "y_pred=neural.predict(X_chiangrai)\n"
   ]
  },
  {
   "cell_type": "code",
   "execution_count": 36,
   "metadata": {},
   "outputs": [
    {
     "name": "stdout",
     "output_type": "stream",
     "text": "8/1 [================================================================================================================================================================================================================================================] - 0s 1000us/sample - loss: 4461783.0000 - mse: 4461623.0000 - mae: 1469.5554 - mape: 13.3708\n"
    }
   ],
   "source": [
    "accuracy=neural.evaluate(X_train, Y_train)"
   ]
  },
  {
   "cell_type": "code",
   "execution_count": 34,
   "metadata": {},
   "outputs": [],
   "source": [
    "X_test=K.constant(X_test)\n",
    "Y_test=K.constant(Y_test)"
   ]
  },
  {
   "cell_type": "code",
   "execution_count": 37,
   "metadata": {},
   "outputs": [
    {
     "name": "stdout",
     "output_type": "stream",
     "text": "4/1 [========================================================================================================================] - 0s 2ms/sample - loss: 13814280.0000 - mse: 13814120.0000 - mae: 2293.3701 - mape: 15.1822\n"
    }
   ],
   "source": [
    "accuracy=neural.evaluate(X_test, Y_test)"
   ]
  },
  {
   "cell_type": "code",
   "execution_count": 39,
   "metadata": {},
   "outputs": [
    {
     "name": "stdout",
     "output_type": "stream",
     "text": "12/1 [========================================================================================================================================================================================================================================================================================================================================================================] - 0s 20ms/sample - loss: 7579282.0000 - mse: 7579122.0000 - mae: 1744.1602 - mape: 13.9746\n"
    }
   ],
   "source": [
    "accuracy=neural.evaluate(X_chiangrai, Y_chiangrai)\n"
   ]
  },
  {
   "cell_type": "code",
   "execution_count": 41,
   "metadata": {},
   "outputs": [],
   "source": [
    "n_size=X_chiangmai.shape[0]\n",
    "\n",
    "X_train, X_test, Y_train, Y_test =  train_test_split(X_chiangmai, Y_chiangmai, test_size=0.3)\n",
    "X_train_ord = X_chiangmai[:int(n_size*(1-0.3)), :]\n",
    "X_test_ord  = X_chiangmai[int(n_size*(1-0.3)):, :]\n",
    "Y_train_ord = Y_chiangmai[:int(n_size*(1-0.3))]\n",
    "Y_test_ord  = Y_chiangmai[int(n_size*(1-0.3)):]"
   ]
  },
  {
   "cell_type": "code",
   "execution_count": 42,
   "metadata": {},
   "outputs": [],
   "source": [
    "X_train=K.constant(X_train)\n",
    "Y_train=K.constant(Y_train)\n",
    "X_test=K.constant(X_test)\n",
    "Y_test=K.constant(Y_test)\n",
    "X_chiangmai=K.constant(X_chiangmai)\n",
    "\n",
    "\n"
   ]
  },
  {
   "cell_type": "code",
   "execution_count": 98,
   "metadata": {},
   "outputs": [],
   "source": [
    "scaler=MinMaxScaler()\n",
    "reg = l1(0.01)\n",
    "neuralchiangmai = Sequential()\n",
    "scaler=MinMaxScaler()\n",
    "    # input layer\n",
    "neuralchiangmai.add(Dense(256, activation='relu', input_dim=X_chiangmai.shape[1]))\n",
    "    # hidden layer\n",
    "neuralchiangmai.add(Dense(512, activation='relu',kernel_regularizer=reg)) \n",
    "neuralchiangmai.add(Dropout(0.4))\n",
    "neuralchiangmai.add(Dense(512, activation='relu',kernel_regularizer=reg))   \n",
    "neuralchiangmai.add(Dropout(0.4)) \n",
    "#neuralchiangmai.add(Dense(512, activation='relu',kernel_regularizer=reg))   \n",
    "#neuralchiangmai.add(Dropout(0.4))\n",
    "     \n",
    "# output layer\n",
    "neuralchiangmai.add(Dense(1, activation='relu'))\n",
    "neuralchiangmai.compile(optimizer='adam', loss='mse',metrics=['mse', 'mae', 'mape'])"
   ]
  },
  {
   "cell_type": "code",
   "execution_count": 99,
   "metadata": {},
   "outputs": [
    {
     "data": {
      "text/plain": "<tensorflow.python.keras.callbacks.History at 0x21da45bc288>"
     },
     "execution_count": 99,
     "metadata": {},
     "output_type": "execute_result"
    }
   ],
   "source": [
    "scaler.fit(X_train)\n",
    "neuralchiangmai.fit(X_train,Y_train,epochs=100, verbose=0, batch_size=32)"
   ]
  },
  {
   "cell_type": "code",
   "execution_count": 100,
   "metadata": {},
   "outputs": [
    {
     "name": "stdout",
     "output_type": "stream",
     "text": "[[22817.328]\n [23749.527]\n [21550.156]\n [21552.533]\n [22735.922]\n [23550.762]\n [22850.902]\n [22989.293]\n [22893.594]\n [21091.29 ]\n [20899.02 ]\n [18638.596]]\n"
    }
   ],
   "source": [
    "y_pred=neuralchiangmai.predict(X_chiangmai)\n",
    "print(y_pred)"
   ]
  },
  {
   "cell_type": "code",
   "execution_count": 101,
   "metadata": {},
   "outputs": [
    {
     "name": "stdout",
     "output_type": "stream",
     "text": "8/1 [================================================================================================================================================================================================================================================] - 0s 22ms/sample - loss: 42600156.0000 - mse: 42600088.0000 - mae: 6016.4736 - mape: 25.4439\n"
    }
   ],
   "source": [
    "accuracy=neuralchiangmai.evaluate(X_train, Y_train)"
   ]
  },
  {
   "cell_type": "code",
   "execution_count": 102,
   "metadata": {},
   "outputs": [
    {
     "name": "stdout",
     "output_type": "stream",
     "text": "4/1 [========================================================================================================================] - 0s 2ms/sample - loss: 14187967.0000 - mse: 14187898.0000 - mae: 3179.7075 - mape: 17.2598\n"
    }
   ],
   "source": [
    "accuracy=neuralchiangmai.evaluate(X_test, Y_test)"
   ]
  },
  {
   "cell_type": "code",
   "execution_count": 103,
   "metadata": {},
   "outputs": [
    {
     "name": "stdout",
     "output_type": "stream",
     "text": "12/1 [========================================================================================================================================================================================================================================================================================================================================================================] - 0s 14ms/sample - loss: 33129424.0000 - mse: 33129354.0000 - mae: 5070.8848 - mape: 22.7159\n"
    }
   ],
   "source": [
    "accuracy=neuralchiangmai.evaluate(X_chiangmai, Y_chiangmai)"
   ]
  },
  {
   "cell_type": "code",
   "execution_count": null,
   "metadata": {},
   "outputs": [],
   "source": [
    "#########################################RNN#########################################################33"
   ]
  },
  {
   "cell_type": "code",
   "execution_count": null,
   "metadata": {},
   "outputs": [],
   "source": [
    "rnn = Sequential()\n",
    "rnn.add(LSTM(10, activation='relu', return_sequences=True, input_shape=(n_steps, n_features)))\n",
    "rnn.add(Dropout(0.2))\n",
    "rnn.add(LSTM(50, activation='relu'))\n",
    "rnn.add(Dropout(0.2))\n",
    "rnn.add(Dense(50, activation='relu'))\n",
    "rnn.add(Dropout(0.2))\n",
    "rnn.add(Dense(1, activation='relu'))\n",
    "rnn.compile(optimizer='adam', loss='mse',metrics=['mse', 'mae', 'mape'])\n"
   ]
  }
 ]
}