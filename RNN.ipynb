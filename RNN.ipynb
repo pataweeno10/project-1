{
 "nbformat": 4,
 "nbformat_minor": 2,
 "metadata": {
  "language_info": {
   "name": "python",
   "codemirror_mode": {
    "name": "ipython",
    "version": 3
   },
   "version": "3.7.4-final"
  },
  "orig_nbformat": 2,
  "file_extension": ".py",
  "mimetype": "text/x-python",
  "name": "python",
  "npconvert_exporter": "python",
  "pygments_lexer": "ipython3",
  "version": 3,
  "kernelspec": {
   "name": "python37464bitasusvirtualenv61b8c41673f142adbf5f1f5f9294baf8",
   "display_name": "Python 3.7.4 64-bit ('ASUS': virtualenv)"
  }
 },
 "cells": [
  {
   "cell_type": "code",
   "execution_count": 9,
   "metadata": {},
   "outputs": [],
   "source": [
    "import pandas as pd\n",
    "import numpy as np\n",
    "import matplotlib.pyplot as plt\n",
    "import matplotlib.cm as cm\n",
    "# multivariate linear regression with regularization\n",
    "from sklearn.linear_model import LinearRegression, Ridge, Lasso\n",
    "# support vector machine regression\n",
    "from sklearn.svm import SVR\n",
    "from sklearn.metrics import r2_score\n",
    "# neural network\n",
    "import tensorflow\n",
    "from tensorflow.keras.models import Sequential\n",
    "from tensorflow.keras.layers import LSTM, GRU, Dense, Dropout, Bidirectional, BatchNormalization\n",
    "# normalization\n",
    "from sklearn.preprocessing import MinMaxScaler, StandardScaler\n",
    "from sklearn.pipeline import Pipeline\n",
    "# score\n",
    "from sklearn.metrics import mean_absolute_error\n",
    "from sklearn.model_selection import train_test_split, StratifiedShuffleSplit, GridSearchCV, RandomizedSearchCV\n",
    "# import keras\n",
    "import tensorflow.keras\n",
    "from tensorflow.keras import optimizers, regularizers\n",
    "# import regularizer\n",
    "from tensorflow.keras.regularizers import l1, l2\n",
    "# import matplotlib\n",
    "import matplotlib.pyplot as plt\n",
    "# os\n",
    "import os\n",
    "\n",
    "import pickle\n",
    "from calendar import monthrange"
   ]
  },
  {
   "cell_type": "code",
   "execution_count": 10,
   "metadata": {},
   "outputs": [],
   "source": [
    "DailytempChiangmai=pd.read_csv('noaa_chiangMai.csv')\n",
    "DailytempChiangrai=pd.read_csv('noaa_chiangrai.csv')\n",
    "DailytempChiangrai=DailytempChiangrai.iloc[:,[2,3,4,7]]\n",
    "DailytempChiangmai=DailytempChiangmai.iloc[:,[2,3,4,7]]"
   ]
  },
  {
   "cell_type": "code",
   "execution_count": 11,
   "metadata": {},
   "outputs": [],
   "source": [
    "DailytempChiangmai_1=DailytempChiangmai.loc[(DailytempChiangmai['YEAR']%4==0)&(DailytempChiangmai['YEAR']>=1994)&(DailytempChiangmai['YEAR']<=2019)]\n",
    "DailytempChiangmai_2=DailytempChiangmai.loc[(DailytempChiangmai['YEAR']%4!=0)&(DailytempChiangmai['YEAR']>=1994)&(DailytempChiangmai['YEAR']<=2019)]\n",
    "DailytempChiangrai_1=DailytempChiangrai.loc[(DailytempChiangrai['YEAR']%4==0)&(DailytempChiangrai['YEAR']>=1994)&(DailytempChiangmai['YEAR']<=2019)]\n",
    "DailytempChiangrai_2=DailytempChiangrai.loc[(DailytempChiangrai['YEAR']%4!=0)&(DailytempChiangrai['YEAR']>=1994)&(DailytempChiangmai['YEAR']<=2019)]\n",
    "#######################################################333\n",
    "DailytempChiangmai_1=DailytempChiangmai_1.loc[DailytempChiangmai_1['MONTH']<=2]\n",
    "DailytempChiangmai_2=DailytempChiangmai_2.loc[DailytempChiangmai_2['MONTH']<=2]\n",
    "DailytempChiangrai_1=DailytempChiangrai_1.loc[DailytempChiangrai_1['MONTH']<=2]\n",
    "DailytempChiangrai_2=DailytempChiangrai_2.loc[DailytempChiangrai_2['MONTH']<=2]"
   ]
  },
  {
   "cell_type": "code",
   "execution_count": 12,
   "metadata": {},
   "outputs": [
    {
     "ename": "TypeError",
     "evalue": "reshape() takes exactly 1 argument (0 given)",
     "output_type": "error",
     "traceback": [
      "\u001b[1;31m---------------------------------------------------------------------------\u001b[0m",
      "\u001b[1;31mTypeError\u001b[0m                                 Traceback (most recent call last)",
      "\u001b[1;32m<ipython-input-12-55a71e5e8334>\u001b[0m in \u001b[0;36m<module>\u001b[1;34m\u001b[0m\n\u001b[0;32m      1\u001b[0m \u001b[0mDailytempChiangmai_1\u001b[0m\u001b[1;33m=\u001b[0m\u001b[0mDailytempChiangmai_1\u001b[0m\u001b[1;33m.\u001b[0m\u001b[0mto_numpy\u001b[0m\u001b[1;33m(\u001b[0m\u001b[1;33m)\u001b[0m\u001b[1;33m\u001b[0m\u001b[1;33m\u001b[0m\u001b[0m\n\u001b[1;32m----> 2\u001b[1;33m \u001b[0mDailytempChiangmai_1\u001b[0m\u001b[1;33m=\u001b[0m\u001b[0mDailytempChiangmai_1\u001b[0m\u001b[1;33m.\u001b[0m\u001b[0mreshape\u001b[0m\u001b[1;33m(\u001b[0m\u001b[1;33m)\u001b[0m\u001b[1;33m\u001b[0m\u001b[1;33m\u001b[0m\u001b[0m\n\u001b[0m",
      "\u001b[1;31mTypeError\u001b[0m: reshape() takes exactly 1 argument (0 given)"
     ]
    }
   ],
   "source": [
    "DailytempChiangmai_1=Da\n",
    "DailytempChiangmai_1=DailytempChiangmai_1.to_numpy()\n"
   ]
  },
  {
   "cell_type": "code",
   "execution_count": 15,
   "metadata": {},
   "outputs": [],
   "source": [
    "DailytempChiangmai_1=DailytempChiangmai_1.reshape(24,60)\n"
   ]
  },
  {
   "cell_type": "code",
   "execution_count": null,
   "metadata": {},
   "outputs": [],
   "source": []
  }
 ]
}